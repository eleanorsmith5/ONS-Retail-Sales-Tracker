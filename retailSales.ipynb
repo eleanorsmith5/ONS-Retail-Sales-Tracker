{
 "cells": [
  {
   "cell_type": "code",
   "execution_count": 175,
   "metadata": {},
   "outputs": [],
   "source": [
    "import pandas as pd\n",
    "import requests"
   ]
  },
  {
   "cell_type": "code",
   "execution_count": 176,
   "metadata": {},
   "outputs": [],
   "source": [
    "urls = {\n",
    "    'internet':'https://www.ons.gov.uk/file?uri=/businessindustryandtrade/retailindustry/datasets/retailsalesindexinternetsales/current/internetreferencetables.xlsx',\n",
    "    'pounds':'https://www.ons.gov.uk/file?uri=/businessindustryandtrade/retailindustry/datasets/poundsdatatotalretailsales/current/poundsdata.xlsx',\n",
    "    # 'index':'https://www.ons.gov.uk/file?uri=/businessindustryandtrade/retailindustry/datasets/retailsalesindexreferencetables/current/mainreferencetables.xlsx'\n",
    "}\n",
    "\n",
    "dropColumns = [\n",
    "    'All retailing including automotive fuel',\n",
    "    'Month as a % of Total',\n",
    "    'Month as a % of Total excluding automotive fuel',\n",
    "    'Total non-food stores',\n",
    "    'Total Annual Sales for All Retailing including automotive fuel',\n",
    "    'Total Annual Sales for All Retailing excluding automotive fuel'\n",
    "]"
   ]
  },
  {
   "cell_type": "code",
   "execution_count": 177,
   "metadata": {},
   "outputs": [],
   "source": [
    "# download each workbook\n",
    "for _ in urls:\n",
    "    with open(f'{_}.xlsx', 'wb') as output:\n",
    "        output.write(requests.get(urls[_]).content)"
   ]
  },
  {
   "cell_type": "code",
   "execution_count": 178,
   "metadata": {},
   "outputs": [],
   "source": [
    "# parse multi-sheet workbook to dataframe by selecting sheet\n",
    "dfPounds = pd.ExcelFile('pounds.xlsx').parse('ValSAW')\n",
    "\n",
    "# remove rows not containing data\n",
    "dfPounds.columns = dfPounds.iloc[3]\n",
    "dfPounds.columns.name = None\n",
    "dfPounds = dfPounds.iloc[6:]\n",
    "for _ in dropColumns:\n",
    "    dfPounds = dfPounds.drop(_,axis=1)\n",
    "\n",
    "# parse time period and set as index\n",
    "dfPounds['Time Period'] = pd.to_datetime(dfPounds['Time Period'], format='%Y%b')\n",
    "dfPounds = dfPounds.set_index('Time Period',drop=True)\n",
    "dfPounds = dfPounds.loc['2008-01-01':]\n",
    "\n",
    "# multiply values by number of weeks for month average\n",
    "dfPounds.iloc[:,1:] = dfPounds.iloc[:,1:].multiply(dfPounds.loc[:, 'Number of Weeks'], axis=\"index\")"
   ]
  },
  {
   "cell_type": "code",
   "execution_count": 179,
   "metadata": {},
   "outputs": [],
   "source": [
    "# parse multi-sheet workbook to dataframe by selecting sheet\n",
    "dfInternet = pd.ExcelFile('Internet.xlsx').parse('IntValSA')\n",
    "\n",
    "# remove rows not containing data\n",
    "dfInternet.columns = dfInternet.iloc[2]\n",
    "dfInternet.columns.name = None\n",
    "dfInternet = dfInternet.iloc[5:]\n",
    "\n",
    "# parse time period and set as index\n",
    "dfInternet['Time Period'] = pd.to_datetime(dfInternet['Time Period'], format='%Y %b')\n",
    "dfInternet = dfInternet.set_index('Time Period',drop=True)\n",
    "dfInternet = dfInternet.drop('Total of predominantly non-food stores [Note 2]',axis=1)\n",
    "\n",
    "# change values from £m to £k matching dfPounds\n",
    "dfInternet = dfInternet * 1000\n",
    "\n",
    "# copy column names and add weeks column from dfPounds\n",
    "dfInternet.columns = dfPounds.columns[1:-1]\n",
    "dfInternet = dfInternet.join(dfPounds['Number of Weeks'])\n",
    "col = dfInternet.pop('Number of Weeks')\n",
    "dfInternet.insert(0, col.name, col)\n",
    "\n",
    "# multiply values by number of weeks for month average\n",
    "dfInternet.iloc[:,1:] = dfInternet.iloc[:,1:].multiply(dfInternet.loc[:, 'Number of Weeks'], axis=\"index\")"
   ]
  },
  {
   "cell_type": "code",
   "execution_count": 180,
   "metadata": {},
   "outputs": [],
   "source": [
    "# create dataframe for offline sales\n",
    "dfOffline = dfPounds.iloc[:,1:] - dfInternet.iloc[:,1:]\n",
    "dfOffline = dfOffline.join(dfPounds['Number of Weeks'])\n",
    "col = dfOffline.pop('Number of Weeks')\n",
    "dfOffline.insert(0, col.name, col)"
   ]
  }
 ],
 "metadata": {
  "kernelspec": {
   "display_name": "ons_retail-zeKbSgd-",
   "language": "python",
   "name": "python3"
  },
  "language_info": {
   "codemirror_mode": {
    "name": "ipython",
    "version": 3
   },
   "file_extension": ".py",
   "mimetype": "text/x-python",
   "name": "python",
   "nbconvert_exporter": "python",
   "pygments_lexer": "ipython3",
   "version": "3.11.2"
  },
  "orig_nbformat": 4,
  "vscode": {
   "interpreter": {
    "hash": "70849c673176ea40044b494d3fca5ea808852e6be38bf085e8223a2aa620e4ef"
   }
  }
 },
 "nbformat": 4,
 "nbformat_minor": 2
}
